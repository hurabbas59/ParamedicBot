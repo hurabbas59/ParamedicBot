{
 "cells": [
  {
   "cell_type": "code",
   "execution_count": 1,
   "metadata": {},
   "outputs": [],
   "source": [
    "import os"
   ]
  },
  {
   "cell_type": "code",
   "execution_count": 5,
   "metadata": {},
   "outputs": [],
   "source": [
    "\n",
    "historical_facts = [\n",
    "    \"France: History The French Revolution, a period of radical social and political upheaval, took place from 1789 to 1799.\",\n",
    "    \"Egypt: History The construction of the Great Pyramid of Giza, one of the Seven Wonders of the Ancient World, began around 2580 BCE during the reign of Pharaoh Khufu.\",\n",
    "    \"India: History The ancient Indian mathematician Aryabhata introduced the concept of zero in his work Aryabhatiya, written around 499 CE.\"\n",
    "]\n",
    "\n",
    "metadata = [\n",
    "\n",
    "    {\n",
    "        \"country\":\"France\",\n",
    "        \"id\":1\n",
    "    },\n",
    "    {\n",
    "        \"country\":\"Egypt\",\n",
    "        \"id\":2\n",
    "    },\n",
    "    {\n",
    "        \"country\":\"India\",\n",
    "        \"id\":3\n",
    "    }\n",
    "\n",
    "]"
   ]
  },
  {
   "cell_type": "code",
   "execution_count": 6,
   "metadata": {},
   "outputs": [],
   "source": [
    "from qdrant_client import QdrantClient\n",
    "client = QdrantClient(path=\"./db/\")  # Persists changes to disk"
   ]
  },
  {
   "cell_type": "code",
   "execution_count": 7,
   "metadata": {},
   "outputs": [
    {
     "data": {
      "text/plain": [
       "[1, 2, 3]"
      ]
     },
     "execution_count": 7,
     "metadata": {},
     "output_type": "execute_result"
    }
   ],
   "source": [
    "client.add(\n",
    "    collection_name=\"demo_collection\",\n",
    "    documents=historical_facts,\n",
    "    metadata=metadata,\n",
    "    ids=[1,2,3]\n",
    ")"
   ]
  },
  {
   "cell_type": "code",
   "execution_count": 10,
   "metadata": {},
   "outputs": [
    {
     "name": "stdout",
     "output_type": "stream",
     "text": [
      "[]\n"
     ]
    }
   ],
   "source": [
    "from qdrant_client.models import Filter, FieldCondition, Match\n",
    "\n",
    "search_result = client.query(\n",
    "    collection_name=\"demo_collection\",\n",
    "    query_text=\"history\",\n",
    "    query_filter=Filter(\n",
    "        must=[\n",
    "            FieldCondition(\n",
    "                key=\"country\",\n",
    "                match={\"value\":\"France\"}\n",
    "            ),\n",
    "            FieldCondition(\n",
    "                key=\"id\",\n",
    "                match={\"value\":2}\n",
    "            )\n",
    "        ]\n",
    "    )\n",
    ")\n",
    "print(search_result)"
   ]
  },
  {
   "cell_type": "code",
   "execution_count": null,
   "metadata": {},
   "outputs": [],
   "source": []
  }
 ],
 "metadata": {
  "kernelspec": {
   "display_name": "Python 3",
   "language": "python",
   "name": "python3"
  },
  "language_info": {
   "codemirror_mode": {
    "name": "ipython",
    "version": 3
   },
   "file_extension": ".py",
   "mimetype": "text/x-python",
   "name": "python",
   "nbconvert_exporter": "python",
   "pygments_lexer": "ipython3",
   "version": "3.11.5"
  }
 },
 "nbformat": 4,
 "nbformat_minor": 2
}
